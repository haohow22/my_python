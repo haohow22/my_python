{
 "cells": [
  {
   "cell_type": "markdown",
   "id": "f9af0639",
   "metadata": {},
   "source": [
    "### Python Classes - Instance Methods vs. Functions - Methods that Belong to an Object - APPFICIAL\n",
    "\n",
    "* Instance method – a function within a class, that only an object of the class can call using dot notation\n",
    "\n",
    "* Dot notation (also called the attribute reference operator) – provides access to attributes or methods of an object \n",
    "\n",
    "* The __init__ method is a constructor method which sets up the initial state of the new instance\n",
    "\n",
    "* The double underscores indicate the method is a special method name, which implements some special class behavior. For example, __init()__ implements the constructor of the class\n",
    "\n",
    "* https://www.youtube.com/watch?v=nyZ1esmVcXQ  "
   ]
  },
  {
   "cell_type": "code",
   "execution_count": 1,
   "id": "f7815d5b",
   "metadata": {
    "scrolled": true
   },
   "outputs": [
    {
     "name": "stdout",
     "output_type": "stream",
     "text": [
      "Hao ate a sandwich that weighs 2 kg\n",
      "Name : Hao\n",
      "Age : 31\n",
      "Weight : 71 kg\n",
      "================\n",
      "HP ate a sandwich that weighs 2 kg\n",
      "Name : HP\n",
      "Age : 30\n",
      "Weight : 60 kg\n"
     ]
    }
   ],
   "source": [
    "class Person:\n",
    "    def __init__(self):\n",
    "        self.name = 'n/a'\n",
    "        self.age = 0\n",
    "        self.weight = 0.0\n",
    "    \n",
    "    def eat(self, food_weight):\n",
    "        print(f'{self.name} ate a sandwich that weighs {food_weight} kg')\n",
    "        self.weight += food_weight\n",
    "    \n",
    "    \n",
    "    def print_person(self):\n",
    "        print(f'Name : {self.name}')\n",
    "        print(f'Age : {self.age}')\n",
    "        print(f'Weight : {self.weight} kg')\n",
    "        \n",
    "if __name__ == '__main__':\n",
    "    \n",
    "    person1 = Person()\n",
    "    person1.name = 'Hao'\n",
    "    person1.age = 31\n",
    "    person1.weight = 69\n",
    "    person1.eat(2)\n",
    "    person1.print_person()\n",
    "    \n",
    "    print('================')\n",
    "    \n",
    "    person1.name = 'HP'\n",
    "    person1.age = 30\n",
    "    person1.weight = 58\n",
    "    person1.eat(2)\n",
    "    person1.print_person()  "
   ]
  }
 ],
 "metadata": {
  "kernelspec": {
   "display_name": "Python 3 (ipykernel)",
   "language": "python",
   "name": "python3"
  },
  "language_info": {
   "codemirror_mode": {
    "name": "ipython",
    "version": 3
   },
   "file_extension": ".py",
   "mimetype": "text/x-python",
   "name": "python",
   "nbconvert_exporter": "python",
   "pygments_lexer": "ipython3",
   "version": "3.9.7"
  }
 },
 "nbformat": 4,
 "nbformat_minor": 5
}
