{
 "cells": [
  {
   "cell_type": "markdown",
   "id": "96e0b5a5",
   "metadata": {},
   "source": [
    "# 顯示滑鼠工具"
   ]
  },
  {
   "cell_type": "code",
   "execution_count": 1,
   "id": "508f98fb",
   "metadata": {},
   "outputs": [],
   "source": [
    "# !pip install pyautogui\n",
    "# !pip install keyboard"
   ]
  },
  {
   "cell_type": "code",
   "execution_count": 2,
   "id": "25943bfa",
   "metadata": {},
   "outputs": [
    {
     "data": {
      "text/plain": [
       "Point(x=-1265, y=846)"
      ]
     },
     "execution_count": 2,
     "metadata": {},
     "output_type": "execute_result"
    }
   ],
   "source": [
    "import pyautogui as pag\n",
    "import keyboard\n",
    "\n",
    "creenWidth, screenHeight = pag.size()\n",
    "pag.position()"
   ]
  },
  {
   "cell_type": "code",
   "execution_count": 3,
   "id": "84a5e218",
   "metadata": {},
   "outputs": [
    {
     "data": {
      "text/plain": [
       "(-1330, 995)"
      ]
     },
     "execution_count": 3,
     "metadata": {},
     "output_type": "execute_result"
    }
   ],
   "source": [
    "x,y = pag.position()\n",
    "x,y"
   ]
  },
  {
   "cell_type": "code",
   "execution_count": 4,
   "id": "1a1e27ac",
   "metadata": {},
   "outputs": [
    {
     "data": {
      "text/plain": [
       "[-1330, 995]"
      ]
     },
     "execution_count": 4,
     "metadata": {},
     "output_type": "execute_result"
    }
   ],
   "source": [
    "position = [x,y]\n",
    "position"
   ]
  },
  {
   "cell_type": "code",
   "execution_count": 5,
   "id": "357c52f7",
   "metadata": {},
   "outputs": [
    {
     "data": {
      "text/plain": [
       "'now_Position:-1330,995'"
      ]
     },
     "execution_count": 5,
     "metadata": {},
     "output_type": "execute_result"
    }
   ],
   "source": [
    "posStr = \"now_Position:\" + str(x)+','+str(y)\n",
    "posStr"
   ]
  },
  {
   "cell_type": "code",
   "execution_count": 6,
   "id": "9771c005",
   "metadata": {},
   "outputs": [
    {
     "data": {
      "text/plain": [
       "'now_Position:-1330, 995'"
      ]
     },
     "execution_count": 6,
     "metadata": {},
     "output_type": "execute_result"
    }
   ],
   "source": [
    "posStr = \"now_Position:\" + str(x).rjust(4)+','+str(y).rjust(4)  #.rjust(4) 補滿4位數\n",
    "posStr"
   ]
  },
  {
   "cell_type": "code",
   "execution_count": 9,
   "id": "5161dc2b",
   "metadata": {},
   "outputs": [
    {
     "name": "stdout",
     "output_type": "stream",
     "text": [
      "now_Position:-1330, 995\n"
     ]
    }
   ],
   "source": [
    "print(posStr)"
   ]
  },
  {
   "cell_type": "markdown",
   "id": "ac524ea2",
   "metadata": {},
   "source": [
    "# 捕抓滑鼠點位並存在記事本"
   ]
  },
  {
   "cell_type": "code",
   "execution_count": 10,
   "id": "396fa072",
   "metadata": {},
   "outputs": [
    {
     "name": "stdout",
     "output_type": "stream",
     "text": [
      "now_Position:1179, 841\n",
      "now_Position:1179, 841\n",
      "now_Position: 145, 936\n",
      "要儲存的位置: 145, 936\n",
      "請輸入滑鼠目前的動作資訊:第一個位置\n",
      "儲存位置資訊: [145, 936]\n",
      "=====================================\n",
      "now_Position: 145, 936\n",
      "要儲存的位置:  75, 233\n",
      "請輸入滑鼠目前的動作資訊:第二個位置\n",
      "儲存位置資訊: [75, 233]\n",
      "=====================================\n",
      "now_Position:  75, 233\n",
      "end....\n"
     ]
    }
   ],
   "source": [
    "import os\n",
    "import time\n",
    "import pyautogui as pag\n",
    "import keyboard\n",
    "\n",
    "if not os.path.exists('./my_positions_file'):\n",
    "    os.makedirs('./my_positions_file')\n",
    "    \n",
    "try:\n",
    "    while True:\n",
    "        # print(\"Press Ctrl-C to end\")\n",
    "        screenWidth, screenHeight = pag.size()  #獲取螢幕的尺寸\n",
    "        # print(screenWidth,screenHeight)\n",
    "        x,y = pag.position()   #獲取當前滑鼠的位置\n",
    "        position = [x,y]\n",
    "        posStr = \"now_Position:\" + str(x).rjust(4)+','+str(y).rjust(4)\n",
    "        print(posStr)  # now_Position: 478,569\n",
    "        \n",
    "        if keyboard.read_key() == \"s\":\n",
    "            x,y = pag.position()   #獲取當前滑鼠的位置\n",
    "            position = [x,y]\n",
    "            posStr = \"要儲存的位置:\" + str(x).rjust(4)+','+str(y).rjust(4)\n",
    "            posStr2 = str(x).rjust(5)+','+str(y).rjust(5)\n",
    "            print(posStr)\n",
    "            \n",
    "            step = str(input('請輸入滑鼠目前的動作資訊:'))\n",
    "            print('儲存位置資訊:',str(position))\n",
    "            print('=====================================')\n",
    "\n",
    "            File_object = open('my_positions_file/x_y.txt', 'a')\n",
    "            File_object.write(\"[\"+ str(posStr2) +\"] \"+ step + \"\\r\")\n",
    "            File_object.close()\n",
    "            \n",
    "        time.sleep(0.2)\n",
    "        os.system('cls')   #清楚螢幕\n",
    "except KeyboardInterrupt:\n",
    "    print('end....')\n",
    "    "
   ]
  },
  {
   "cell_type": "markdown",
   "id": "2a04d227",
   "metadata": {},
   "source": [
    "# 讀取記事本點位"
   ]
  },
  {
   "cell_type": "code",
   "execution_count": 11,
   "id": "e21ee4c4",
   "metadata": {},
   "outputs": [
    {
     "name": "stdout",
     "output_type": "stream",
     "text": [
      "[  145,  936] 第一個位置\n",
      "\n",
      "[   75,  233] 第二個位置\n",
      "\n"
     ]
    },
    {
     "data": {
      "text/plain": [
       "<function TextIOWrapper.close()>"
      ]
     },
     "execution_count": 11,
     "metadata": {},
     "output_type": "execute_result"
    }
   ],
   "source": [
    "path = 'my_positions_file/x_y.txt'\n",
    "f = open(path, 'r')\n",
    "\n",
    "for line in f.readlines():\n",
    "    print(line)\n",
    "f.close"
   ]
  }
 ],
 "metadata": {
  "kernelspec": {
   "display_name": "Python 3 (ipykernel)",
   "language": "python",
   "name": "python3"
  },
  "language_info": {
   "codemirror_mode": {
    "name": "ipython",
    "version": 3
   },
   "file_extension": ".py",
   "mimetype": "text/x-python",
   "name": "python",
   "nbconvert_exporter": "python",
   "pygments_lexer": "ipython3",
   "version": "3.9.7"
  }
 },
 "nbformat": 4,
 "nbformat_minor": 5
}
