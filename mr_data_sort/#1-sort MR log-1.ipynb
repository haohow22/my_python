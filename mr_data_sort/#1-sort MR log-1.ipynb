{
 "cells": [
  {
   "cell_type": "markdown",
   "id": "2ffb7d3c",
   "metadata": {},
   "source": [
    "# 清洗資料，進行分析"
   ]
  },
  {
   "cell_type": "code",
   "execution_count": 3,
   "id": "98ccab66",
   "metadata": {},
   "outputs": [
    {
     "name": "stdout",
     "output_type": "stream",
     "text": [
      "整理完畢\n"
     ]
    }
   ],
   "source": [
    "import os\n",
    "file_path = 'my_log'\n",
    "file_log = 'MR1'\n",
    "file_log_new = 'MR_new'\n",
    "\n",
    "\n",
    "# include_line=('Newtonsoft.Json' or\n",
    "#                     'String ' or\n",
    "#                     'Rev:{\"code\"' or\n",
    "#                     'Send:https' or\n",
    "#                     'System.N')\n",
    "\n",
    "exclude_keyword=[\n",
    "    'Newtonsoft.Json', \n",
    "    'String ',\n",
    "    'Rev:{\"code',\n",
    "    'Send:https',\n",
    "    'System.N',\n",
    "    '於',\n",
    "    '券商回覆',\n",
    "    '下單數量',\n",
    "    '未定義',\n",
    "    '內部例外',\n",
    "    '多空比例',\n",
    "    '獨立口數',\n",
    "    '非同步下單',\n",
    "    '同步下單',\n",
    "    'Login Error',\n",
    "    'ServerExit'\n",
    "]\n",
    "\n",
    "include_keyword = ['B 成交價格','S 成交價格']\n",
    "\n",
    "f = open(file_path + f'/{file_log}.log',\"r\") \n",
    "lines = f.readlines() \n",
    "f.close()\n",
    "\n",
    "f = open(file_path + f'/{file_log_new}.log',\"w\") \n",
    "for line in lines:\n",
    "    match_exclude_keyword = False\n",
    "    for word in exclude_keyword:\n",
    "            if word in line:\n",
    "                match_exclude_keyword = True\n",
    "    \n",
    "    match_include_keyword = False\n",
    "    for word in include_keyword:\n",
    "        if word in line:\n",
    "            match_include_keyword = True\n",
    "                \n",
    "    if match_exclude_keyword == False and match_include_keyword == True:\n",
    "        line = line.replace('[DEBUG] ',',')\n",
    "        line = line.replace('[\\x08.\\x02]','')\n",
    "        line = line.replace(' 成交價格：',' , ')\n",
    "        line = line.replace(' 成交數量：',' , ')\n",
    "        line = line.replace(' , ',' *** ')\n",
    "        line = line.replace('[','')\n",
    "        line = line.replace(']','')\n",
    "        f.write(line) \n",
    "f.close()\n",
    "print('整理完畢')"
   ]
  },
  {
   "cell_type": "code",
   "execution_count": null,
   "id": "7117d719",
   "metadata": {},
   "outputs": [],
   "source": []
  }
 ],
 "metadata": {
  "kernelspec": {
   "display_name": "Python 3 (ipykernel)",
   "language": "python",
   "name": "python3"
  },
  "language_info": {
   "codemirror_mode": {
    "name": "ipython",
    "version": 3
   },
   "file_extension": ".py",
   "mimetype": "text/x-python",
   "name": "python",
   "nbconvert_exporter": "python",
   "pygments_lexer": "ipython3",
   "version": "3.9.7"
  }
 },
 "nbformat": 4,
 "nbformat_minor": 5
}
