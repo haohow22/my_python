{
 "cells": [
  {
   "cell_type": "markdown",
   "id": "b0f48b51",
   "metadata": {},
   "source": [
    "# 我的10700電腦-用腳本存狗圖片範例\n",
    "\n",
    "* 操作環境  (因為是寫腳本操作Gui，所以須注意介面)\n",
    " * 在電腦解析度3440*1440的螢幕操作\n",
    " * 操作時是在螢幕右半邊的chrome頁面\n",
    " * 須將網頁開至google頁面\n",
    " * 網頁字體為100%"
   ]
  },
  {
   "cell_type": "code",
   "execution_count": 4,
   "id": "265e238f",
   "metadata": {},
   "outputs": [
    {
     "name": "stdout",
     "output_type": "stream",
     "text": [
      "當前視窗：save_dog_pic - Jupyter Notebook - Google Chrome\n",
      "['0x4040404', '0x4090409', '0x4110411']\n",
      "設定英文鍵盤成功！\n",
      "step1 done\n",
      "step2 done\n",
      "step3 done\n",
      "step4 done\n",
      "step5 done\n"
     ]
    }
   ],
   "source": [
    "import pyautogui\n",
    "import sys\n",
    "sys.path.append(\"..\") #關鍵\n",
    "from my_function.set_keyboard_layout import to_enus #在上一層的 my_function裡的 set_keyboard_layout.py引用 to_enus\n",
    "\n",
    "\n",
    "to_enus()  #切換輸入法\n",
    "\n",
    "# step 移動到圖片搜尋\n",
    "pyautogui.moveTo(3299, 144,duration=1) \n",
    "pyautogui.click() \n",
    "print('step1 done')\n",
    "\n",
    "#step 點選搜尋欄位,並且打入dog\n",
    "pyautogui.moveTo(2397, 509,duration=1) \n",
    "pyautogui.click() \n",
    "pyautogui.PAUSE = 1\n",
    "pyautogui.typewrite('dog')\n",
    "pyautogui.press('enter')\n",
    "print('step2 done')\n",
    "\n",
    "# 移動到第一張狗的位置並案右鍵\n",
    "pyautogui.PAUSE = 1\n",
    "pyautogui.moveTo(1802, 410,duration=1) \n",
    "pyautogui.PAUSE = 1\n",
    "pyautogui.click(button='right') \n",
    "print('step3 done')\n",
    "\n",
    "# 移動到儲存顯示\n",
    "pyautogui.moveTo(1855, 666,duration=1) \n",
    "pyautogui.PAUSE = 1\n",
    "pyautogui.click() \n",
    "print('step4 done')\n",
    "\n",
    "# #移動到儲存按鈕\n",
    "pyautogui.moveTo(2506, 506,duration=1) \n",
    "pyautogui.PAUSE = 1\n",
    "pyautogui.click() \n",
    "print('step5 done')"
   ]
  },
  {
   "cell_type": "code",
   "execution_count": null,
   "id": "61560a90",
   "metadata": {},
   "outputs": [],
   "source": []
  }
 ],
 "metadata": {
  "kernelspec": {
   "display_name": "Python 3 (ipykernel)",
   "language": "python",
   "name": "python3"
  },
  "language_info": {
   "codemirror_mode": {
    "name": "ipython",
    "version": 3
   },
   "file_extension": ".py",
   "mimetype": "text/x-python",
   "name": "python",
   "nbconvert_exporter": "python",
   "pygments_lexer": "ipython3",
   "version": "3.9.7"
  }
 },
 "nbformat": 4,
 "nbformat_minor": 5
}
