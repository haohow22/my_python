{
 "cells": [
  {
   "cell_type": "markdown",
   "id": "422ec9c7",
   "metadata": {},
   "source": [
    "# 爬取上市股票 - TSE"
   ]
  },
  {
   "cell_type": "code",
   "execution_count": 1,
   "id": "4ed408d4",
   "metadata": {
    "scrolled": false
   },
   "outputs": [
    {
     "name": "stdout",
     "output_type": "stream",
     "text": [
      "0      代號  股票名稱        上市日 市場別    產業別\n",
      "2    1101    台泥 1962-02-09  上市   水泥工業\n",
      "3    1102    亞泥 1962-06-08  上市   水泥工業\n",
      "4    1103    嘉泥 1969-11-14  上市   水泥工業\n",
      "5    1104    環泥 1971-02-01  上市   水泥工業\n",
      "6    1108    幸福 1990-06-06  上市   水泥工業\n",
      "..    ...   ...        ...  ..    ...\n",
      "960  9944    新麗 2002-08-26  上市    其他業\n",
      "961  9945   潤泰新 1992-04-30  上市    其他業\n",
      "962  9946  三發地產 2013-09-17  上市  建材營造業\n",
      "963  9955    佳龍 2008-01-21  上市    其他業\n",
      "964  9958   世紀鋼 2008-03-12  上市   鋼鐵工業\n",
      "\n",
      "[963 rows x 5 columns]\n"
     ]
    }
   ],
   "source": [
    "#import套件，可將pandas簡寫成pd，呼叫函數pd.xxx而不需pandas.xx\n",
    "import pandas as pd\n",
    "import requests\n",
    "#加入headers\n",
    "headers = {\n",
    "    \"user-agent\": \"Mozilla/5.0 (Windows NT 10.0; Win64; x64) AppleWebKit/537.36 (KHTML, like Gecko) Chrome/98.0.4758.102 Safari/537.36\"   \n",
    "    }\n",
    "#對網站進行requests，並加入指定的headers一同請求\n",
    "html_data = requests.get(\"https://isin.twse.com.tw/isin/C_public.jsp?strMode=2\",headers=headers)\n",
    "\n",
    "#使用pandas的read_html處理表格式\n",
    "x = pd.read_html(html_data.text)\n",
    "\n",
    "#list取出list裡面的第一個元素，就是我們的Dataframe\n",
    "x = x[0]\n",
    "\n",
    "#pandas的好用函數iloc切片，我們指定dataframe的欄位為第一列\n",
    "x.columns  = x.iloc[0,:]\n",
    "\n",
    "#欄位雖然變成了正確的，但本來的那一列仍然存在，我們把它拿掉\n",
    "x = x.iloc[1:,:]\n",
    "\n",
    "#使用split方法，以兩個空白切割字串，並取切割完後第一個，儲存至新增的代號欄位\n",
    "x['代號'] = x['有價證券代號及名稱'].apply(lambda x: x.split()[0])\n",
    "\n",
    "#使用split方法，以兩個空白切割字串，並取切割完後第一個，儲存至新增的股票名稱欄位\n",
    "x['股票名稱'] = x['有價證券代號及名稱'].apply(lambda x: x.split()[-1])\n",
    "\n",
    "#善用to_datetime函數，並將無法轉成datetime的資料化為Nan\n",
    "x['上市日'] = pd.to_datetime(x['上市日'], errors='coerce')\n",
    "\n",
    "#把上市日的Nan去掉即可\n",
    "x = x.dropna(subset=['上市日'])\n",
    "\n",
    "#Drop掉不要的欄位\n",
    "x = x.drop(['有價證券代號及名稱', '國際證券辨識號碼(ISIN Code)', 'CFICode','備註'], axis=1)\n",
    "\n",
    "#更換剩餘的欄位順序\n",
    "x = x[['代號','股票名稱', '上市日', '市場別', '產業別']]\n",
    "\n",
    "#Drop掉產業別是空的欄位\n",
    "x = x.dropna(subset=['產業別'])\n",
    "\n",
    "#pandas的str.isdigit()函數，確認是不是為數字\n",
    "x = x[x[\"代號\"].str.isdigit()]\n",
    "\n",
    "#印出x來看\n",
    "print(x)\n",
    "\n",
    "#儲存成excel, csv\n",
    "save_file_path = ''\n",
    "# x.to_excel(save_file_path + '/formal_TSE_list.xlsx')\n",
    "# x.to_csv(save_file_path + '/formal_TSE_list.csv')\n",
    "x.to_csv(save_file_path + 'formal_TSE_list.csv')"
   ]
  },
  {
   "cell_type": "markdown",
   "id": "ba3ca3b9",
   "metadata": {},
   "source": [
    "# 爬取上櫃股票 - OTC"
   ]
  },
  {
   "cell_type": "code",
   "execution_count": 2,
   "id": "a485fcbc",
   "metadata": {
    "scrolled": true
   },
   "outputs": [
    {
     "name": "stdout",
     "output_type": "stream",
     "text": [
      "0       代號   股票名稱        上市日 市場別    產業別\n",
      "7753  1240   茂生農經 2018-08-08  上櫃  農業科技業\n",
      "7754  1258  其祥-KY 2011-12-12  上櫃   食品工業\n",
      "7755  1259     安心 2011-12-15  上櫃   觀光事業\n",
      "7756  1264     德麥 2015-04-09  上櫃   食品工業\n",
      "7757  1268   漢來美食 2017-09-27  上櫃   觀光事業\n",
      "...    ...    ...        ...  ..    ...\n",
      "8540  9949     琉園 2003-11-21  上櫃  文化創意業\n",
      "8541  9950    萬國通 2004-02-17  上櫃   塑膠工業\n",
      "8542  9951     皇田 2003-12-18  上櫃   電機機械\n",
      "8543  9960    邁達康 2004-12-06  上櫃  貿易百貨業\n",
      "8544  9962     有益 2006-07-10  上櫃   鋼鐵工業\n",
      "\n",
      "[792 rows x 5 columns]\n"
     ]
    }
   ],
   "source": [
    "#import套件，可將pandas簡寫成pd，呼叫函數pd.xxx而不需pandas.xx\n",
    "import pandas as pd\n",
    "import requests\n",
    "#加入headers\n",
    "headers = {\n",
    "    \"user-agent\": \"Mozilla/5.0 (Windows NT 10.0; Win64; x64) AppleWebKit/537.36 (KHTML, like Gecko) Chrome/98.0.4758.102 Safari/537.36\"   \n",
    "    }\n",
    "#對網站進行requests，並加入指定的headers一同請求\n",
    "html_data = requests.get(\"https://isin.twse.com.tw/isin/C_public.jsp?strMode=4\",headers=headers)\n",
    "\n",
    "#使用pandas的read_html處理表格式\n",
    "x = pd.read_html(html_data.text)\n",
    "\n",
    "#list取出list裡面的第一個元素，就是我們的Dataframe\n",
    "x = x[0]\n",
    "\n",
    "#pandas的好用函數iloc切片，我們指定dataframe的欄位為第一列\n",
    "x.columns  = x.iloc[0,:]\n",
    "\n",
    "#欄位雖然變成了正確的，但本來的那一列仍然存在，我們把它拿掉\n",
    "x = x.iloc[1:,:]\n",
    "\n",
    "#使用split方法，以兩個空白切割字串，並取切割完後第一個，儲存至新增的代號欄位\n",
    "x['代號'] = x['有價證券代號及名稱'].apply(lambda x: x.split()[0])\n",
    "\n",
    "#使用split方法，以兩個空白切割字串，並取切割完後第一個，儲存至新增的股票名稱欄位\n",
    "x['股票名稱'] = x['有價證券代號及名稱'].apply(lambda x: x.split()[-1])\n",
    "\n",
    "#善用to_datetime函數，並將無法轉成datetime的資料化為Nan\n",
    "x['上市日'] = pd.to_datetime(x['上市日'], errors='coerce')\n",
    "\n",
    "#把上市日的Nan去掉即可\n",
    "x = x.dropna(subset=['上市日'])\n",
    "\n",
    "#Drop掉不要的欄位\n",
    "x = x.drop(['有價證券代號及名稱', '國際證券辨識號碼(ISIN Code)', 'CFICode','備註'], axis=1)\n",
    "\n",
    "#更換剩餘的欄位順序\n",
    "x = x[['代號','股票名稱', '上市日', '市場別', '產業別']]\n",
    "\n",
    "#Drop掉產業別是空的欄位\n",
    "x = x.dropna(subset=['產業別'])\n",
    "\n",
    "#pandas的str.isdigit()函數，確認是不是為數字\n",
    "x = x[x[\"代號\"].str.isdigit()]\n",
    "\n",
    "#印出x來看\n",
    "print(x)\n",
    "\n",
    "#儲存成excel, csv\n",
    "# save_file_path = 'finance'\n",
    "save_file_path = ''\n",
    "# x.to_excel(save_file_path + '/formal_OTC_list.xlsx')\n",
    "# x.to_csv(save_file_path + '/formal_OTC_list.csv')\n",
    "\n",
    "x.to_csv(save_file_path + 'formal_OTC_list.csv')"
   ]
  },
  {
   "cell_type": "markdown",
   "id": "9d5937a1",
   "metadata": {},
   "source": [
    "# 將股票帶號丟進來去取股票名稱"
   ]
  },
  {
   "cell_type": "code",
   "execution_count": 3,
   "id": "bdcc146d",
   "metadata": {},
   "outputs": [
    {
     "name": "stdout",
     "output_type": "stream",
     "text": [
      "2330:台積電\n",
      "3707:漢磊\n",
      "9999:Don't have this stock\n",
      "1101:台泥\n"
     ]
    }
   ],
   "source": [
    "import pandas as pd\n",
    "\n",
    "class stock:\n",
    "    def __init__(self):\n",
    "        self.TSE_list = 'formal_TSE_list.csv'\n",
    "        self.OTC_list = 'formal_OTC_list.csv'\n",
    "\n",
    "    \n",
    "    def check_stock_id(self, file_name, stock_id):\n",
    "        df = pd.read_csv(file_name).drop(['Unnamed: 0'], axis = 1)\n",
    "        stock_name = df[df['代號'] == stock_id].values[0][1]\n",
    "        return stock_name\n",
    "\n",
    "    \n",
    "    def get_stock_name(self, stock_id):   \n",
    "        isTSE = False\n",
    "        isOTC = False\n",
    "\n",
    "        try:  # 確認是否在TSE\n",
    "            stock_name = self.check_stock_id(self.TSE_list, stock_id)\n",
    "            isTSE = True\n",
    "        except:\n",
    "            pass\n",
    "\n",
    "        if isTSE == False :\n",
    "            try:  # 確認是否在OTC\n",
    "                stock_name = self.check_stock_id(self.OTC_list, stock_id)\n",
    "                isOTC = True\n",
    "            except:\n",
    "                stock_name = 'Don\\'t have this stock'\n",
    "        return stock_name\n",
    "\n",
    "    \n",
    "    \n",
    "if __name__ == '__main__':  # 內容只會在main的文本檔執行\n",
    "     \n",
    "    stock_list = [2330,3707,9999,1101]\n",
    "    S=stock() \n",
    "    for stock_id in stock_list:        \n",
    "        stock_name = S.get_stock_name(stock_id)\n",
    "        print(f'{stock_id}:{stock_name}')\n",
    "        "
   ]
  }
 ],
 "metadata": {
  "kernelspec": {
   "display_name": "Python 3 (ipykernel)",
   "language": "python",
   "name": "python3"
  },
  "language_info": {
   "codemirror_mode": {
    "name": "ipython",
    "version": 3
   },
   "file_extension": ".py",
   "mimetype": "text/x-python",
   "name": "python",
   "nbconvert_exporter": "python",
   "pygments_lexer": "ipython3",
   "version": "3.9.7"
  }
 },
 "nbformat": 4,
 "nbformat_minor": 5
}
