{
 "cells": [
  {
   "cell_type": "markdown",
   "id": "c8bd30b8",
   "metadata": {},
   "source": [
    "# 切換  英文/中文  輸入法\n",
    "\n",
    "* 使用python切換輸入模式\n",
    "* ! pip install pywin32 \n",
    "\n",
    "* 如果發生:\n",
    "  ImportError: DLL load failed while importing win32api: 找不到指定的模块，\n",
    "  則將安裝pywin32資料夾中的兩個.dll檔 (pythoncom39.dll, pywintypes39.dll)，複製到 C:\\Windows\\System32\n",
    "  \n",
    "  pywin32的路徑:\n",
    "  C:\\Users\\user\\anaconda3\\envs\\py39\\Lib\\site-packages\\pywin32_system32\n",
    "\n",
    "\n",
    "* from win32con import WM_INPUTLANGCHANGEREQUEST \n",
    "    要用到，沒有會造成切換不成功\n",
    "\n",
    "\n",
    "* 參考文件:\n",
    "  *  https://blog.csdn.net/jpch89/article/details/84281136\n",
    "  *  https://blog.csdn.net/qq_36834256/article/details/105870593\n",
    "     "
   ]
  },
  {
   "cell_type": "code",
   "execution_count": 6,
   "id": "eb328a05",
   "metadata": {},
   "outputs": [],
   "source": [
    "#切換輸入法\n",
    "# set keyboard layout\n",
    "# 設定鍵盤佈局\n",
    "\n",
    "# 語言程式碼\n",
    "# https://msdn.microsoft.com/en-us/library/cc233982.aspx\n",
    "# LID = {0x0404: \"Chinese (Traditional) (Taiwan)\",\n",
    "#        0x0409: 'English (United States)'}\n",
    "\n",
    "\n",
    "from win32con import WM_INPUTLANGCHANGEREQUEST\n",
    "import win32gui\n",
    "import win32api\n",
    "\n",
    "\n",
    "def switch_keyboard_layout(language=0x0409):\n",
    "\n",
    "    # 獲取前景視窗控制代碼\n",
    "    hwnd = win32gui.GetForegroundWindow()\n",
    "\n",
    "    # 設定鍵盤佈局為英文\n",
    "    result = win32api.SendMessage(\n",
    "        hwnd,\n",
    "        WM_INPUTLANGCHANGEREQUEST,\n",
    "        0,\n",
    "        language)\n",
    "    \n",
    "    if result == 0:\n",
    "        if language == 0x0404:\n",
    "            language = 'Chinese (Traditional)'\n",
    "            \n",
    "        elif language == 0x0409:\n",
    "            language = 'English (United States)'\n",
    "            \n",
    "        print('設定鍵盤('+ str(language) + ')成功！')\n",
    "\n",
    "\n",
    "def to_zhtw():  # 換成中文輸入法\n",
    "\n",
    "    switch_keyboard_layout(0x0404)\n",
    "        \n",
    "def to_enus():  # 換成英文輸入法\n",
    "    switch_keyboard_layout(0x0409)\n"
   ]
  },
  {
   "cell_type": "code",
   "execution_count": 7,
   "id": "7e380a89",
   "metadata": {},
   "outputs": [
    {
     "name": "stdout",
     "output_type": "stream",
     "text": [
      "設定鍵盤(Chinese (Traditional))成功！\n"
     ]
    }
   ],
   "source": [
    "to_zhtw()"
   ]
  },
  {
   "cell_type": "code",
   "execution_count": 8,
   "id": "468aa5e1",
   "metadata": {},
   "outputs": [
    {
     "name": "stdout",
     "output_type": "stream",
     "text": [
      "設定鍵盤(English (United States))成功！\n"
     ]
    }
   ],
   "source": [
    "to_enus()"
   ]
  }
 ],
 "metadata": {
  "kernelspec": {
   "display_name": "Python 3 (ipykernel)",
   "language": "python",
   "name": "python3"
  },
  "language_info": {
   "codemirror_mode": {
    "name": "ipython",
    "version": 3
   },
   "file_extension": ".py",
   "mimetype": "text/x-python",
   "name": "python",
   "nbconvert_exporter": "python",
   "pygments_lexer": "ipython3",
   "version": "3.9.7"
  }
 },
 "nbformat": 4,
 "nbformat_minor": 5
}
