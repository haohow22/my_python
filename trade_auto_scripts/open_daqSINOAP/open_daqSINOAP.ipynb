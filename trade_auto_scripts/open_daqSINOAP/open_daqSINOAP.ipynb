{
 "cells": [
  {
   "cell_type": "markdown",
   "id": "b0f48b51",
   "metadata": {},
   "source": [
    "# 自動開啟好神通"
   ]
  },
  {
   "cell_type": "code",
   "execution_count": 7,
   "id": "265e238f",
   "metadata": {},
   "outputs": [],
   "source": [
    "import pyautogui\n",
    "import time\n",
    "import subprocess\n",
    "from my_password import sinoap_password\n",
    "\n",
    "def check_is_running(name):\n",
    "    return name in (p.name() for p in psutil.process_iter())\n",
    "\n",
    "if not check_is_running('daqSINOAP.exe'):\n",
    "    app = 'C:\\\\SINOAP\\\\daqSINOAP.exe'  # 好神通位置\n",
    "#   os.system(app)  # 用subprocess.Popen取代，才不會卡在os\n",
    "    subprocess.Popen([app])  # 開啟程式\n",
    "    \n",
    "time.sleep(13)  # 開啟好神通約要10秒以上才完成\n",
    "\n",
    "\n",
    "my_ps = sinoap_password()\n",
    "pyautogui.typewrite(my_ps)  # 輸入密碼\n",
    "time.sleep(1)\n",
    "pyautogui.press('enter')\n"
   ]
  }
 ],
 "metadata": {
  "kernelspec": {
   "display_name": "Python 3 (ipykernel)",
   "language": "python",
   "name": "python3"
  },
  "language_info": {
   "codemirror_mode": {
    "name": "ipython",
    "version": 3
   },
   "file_extension": ".py",
   "mimetype": "text/x-python",
   "name": "python",
   "nbconvert_exporter": "python",
   "pygments_lexer": "ipython3",
   "version": "3.9.7"
  }
 },
 "nbformat": 4,
 "nbformat_minor": 5
}
